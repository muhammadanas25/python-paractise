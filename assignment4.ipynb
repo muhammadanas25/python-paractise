{
 "cells": [
  {
   "cell_type": "code",
   "execution_count": 6,
   "metadata": {},
   "outputs": [
    {
     "name": "stdin",
     "output_type": "stream",
     "text": [
      "Input first name ; a\n",
      "Input last name ; b\n",
      "Input age ; 1\n",
      "Input city ; f\n"
     ]
    },
    {
     "data": {
      "text/plain": [
       "{'firstname': 'a',\n",
       " 'lastname': 'b',\n",
       " 'age ': '1',\n",
       " 'city ': 'f',\n",
       " 'qualification ': 'matric'}"
      ]
     },
     "execution_count": 6,
     "metadata": {},
     "output_type": "execute_result"
    }
   ],
   "source": [
    "fname=input(\"Input first name ;\")\n",
    "lname=input(\"Input last name ;\")\n",
    "age=input(\"Input age ;\")\n",
    "city=input(\"Input city ;\")\n",
    "\n",
    "profile = {\"firstname\": fname, \"lastname\":lname, \"age \": age , \"city \": city }\n",
    "profile\n",
    "profile.update({\"qualification \":\"matric\" })\n",
    "profile\n",
    "    "
   ]
  },
  {
   "cell_type": "code",
   "execution_count": 9,
   "metadata": {},
   "outputs": [
    {
     "data": {
      "text/plain": [
       "{'karachi': {'country': 'Pakistan',\n",
       "  'population': '100',\n",
       "  'fact': 'Most Populated City'},\n",
       " 'lahore': {'country': 'Pakistan',\n",
       "  'population': '100',\n",
       "  'fact': 'It has a history'},\n",
       " 'islamabad': {'country': 'Pakistan',\n",
       "  'population': '100',\n",
       "  'fact': 'capital of pak'}}"
      ]
     },
     "execution_count": 9,
     "metadata": {},
     "output_type": "execute_result"
    }
   ],
   "source": [
    "cities = { \"karachi\" : {\"country\" : \"Pakistan\",\"population\":\"100\",\"fact\":\"Most Populated City\"} ,\n",
    "         \"lahore\" : {\"country\" : \"Pakistan\",\"population\":\"100\",\"fact\":\"It has a history\"},\n",
    "         \"islamabad\" : {\"country\" : \"Pakistan\",\"population\":\"100\",\"fact\":\"capital of pak\"}}\n",
    "cities"
   ]
  },
  {
   "cell_type": "code",
   "execution_count": 16,
   "metadata": {},
   "outputs": [
    {
     "name": "stdin",
     "output_type": "stream",
     "text": [
      "number of children ; 1\n",
      "Input age ; 5\n"
     ]
    },
    {
     "name": "stdout",
     "output_type": "stream",
     "text": [
      " ticket is $10\n"
     ]
    }
   ],
   "source": [
    "n=int (input(\"number of children ;\"))\n",
    "for i in range(n):\n",
    "    age=int (input(\"Input age ;\"))\n",
    "    if age <3:\n",
    "        print ( \" ticket is free\")\n",
    "    if age >3 and age <12:\n",
    "         print ( \" ticket is $10\")\n",
    "    if age>12 :\n",
    "        print (\" ticket is $15\")\n",
    "        \n"
   ]
  },
  {
   "cell_type": "code",
   "execution_count": 18,
   "metadata": {},
   "outputs": [
    {
     "name": "stdout",
     "output_type": "stream",
     "text": [
      "one of my favourite book is  oliver twist\n"
     ]
    }
   ],
   "source": [
    "def favourite_book (bookname):\n",
    "    print ( \"one of my favourite book is \" ,bookname)\n",
    "favourite_book (\"oliver twist\")\n",
    "    "
   ]
  },
  {
   "cell_type": "code",
   "execution_count": 31,
   "metadata": {},
   "outputs": [
    {
     "name": "stdin",
     "output_type": "stream",
     "text": [
      "enter number to guess ; 3\n"
     ]
    }
   ],
   "source": [
    "from random import seed\n",
    "from random import randint\n",
    "seed(1)\n",
    "value = randint(0, 30)\n",
    "\n",
    "n=int (input(\"enter number to guess ;\"))\n",
    "i=1\n",
    "while n==value or i==3:\n",
    "    if n>value:\n",
    "        print (\"your number is larger\")\n",
    "        i=i+1 \n",
    "    if n<value:\n",
    "        print (\"your number is larger\")\n",
    "        i=i+1 \n",
    "    if n==value:\n",
    "         print (\"correct\")\n",
    "          \n",
    "        \n"
   ]
  },
  {
   "cell_type": "code",
   "execution_count": null,
   "metadata": {},
   "outputs": [],
   "source": []
  },
  {
   "cell_type": "code",
   "execution_count": null,
   "metadata": {},
   "outputs": [],
   "source": []
  }
 ],
 "metadata": {
  "kernelspec": {
   "display_name": "Python 3",
   "language": "python",
   "name": "python3"
  },
  "language_info": {
   "codemirror_mode": {
    "name": "ipython",
    "version": 3
   },
   "file_extension": ".py",
   "mimetype": "text/x-python",
   "name": "python",
   "nbconvert_exporter": "python",
   "pygments_lexer": "ipython3",
   "version": "3.7.4"
  }
 },
 "nbformat": 4,
 "nbformat_minor": 4
}
