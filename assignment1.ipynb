{
 "cells": [
  {
   "cell_type": "code",
   "execution_count": 1,
   "metadata": {},
   "outputs": [
    {
     "name": "stdout",
     "output_type": "stream",
     "text": [
      "Twinkle, twinkle, little star,\n",
      "    How I wonder what you are!\n",
      "        Up above the world so high,\n",
      "         Like a diamond in the sky.\n",
      "Twinkle, twinkle, little star,\n",
      "    How I wonder what you are\n"
     ]
    }
   ],
   "source": [
    "print(\"Twinkle, twinkle, little star,\")\n",
    "print(\"    How I wonder what you are!\")\n",
    "print(\"        Up above the world so high,\")\n",
    "print(\"         Like a diamond in the sky.\")\n",
    "print(\"Twinkle, twinkle, little star,\")\n",
    "print(\"    How I wonder what you are\")"
   ]
  },
  {
   "cell_type": "code",
   "execution_count": 4,
   "metadata": {},
   "outputs": [
    {
     "name": "stdout",
     "output_type": "stream",
     "text": [
      "python version\n",
      "3.7.4 (default, Aug  9 2019, 18:34:13) [MSC v.1915 64 bit (AMD64)]\n",
      "version.info\n",
      "sys.version_info(major=3, minor=7, micro=4, releaselevel='final', serial=0)\n"
     ]
    }
   ],
   "source": [
    "import sys\n",
    "print(\"python version\")\n",
    "print(sys.version)\n",
    "print('version.info')\n",
    "print(sys.version_info)"
   ]
  },
  {
   "cell_type": "code",
   "execution_count": 5,
   "metadata": {},
   "outputs": [
    {
     "name": "stdout",
     "output_type": "stream",
     "text": [
      "2019-11-28 23:22:36.334869\n"
     ]
    }
   ],
   "source": [
    "\n",
    "import datetime\n",
    "now=datetime.datetime.now()\n",
    "print(now)\n"
   ]
  },
  {
   "cell_type": "code",
   "execution_count": 6,
   "metadata": {},
   "outputs": [
    {
     "name": "stdin",
     "output_type": "stream",
     "text": [
      "Enter the radius of the circle 10\n"
     ]
    },
    {
     "name": "stdout",
     "output_type": "stream",
     "text": [
      "Area of circle is = 314.2857142857143\n"
     ]
    }
   ],
   "source": [
    "\n",
    "r=float(input('Enter the radius of the circle'))\n",
    "area=(22/7)*float(r**2)\n",
    "print('Area of circle is =',area)"
   ]
  },
  {
   "cell_type": "code",
   "execution_count": 7,
   "metadata": {},
   "outputs": [
    {
     "name": "stdin",
     "output_type": "stream",
     "text": [
      "Enter the firstname anas\n",
      "Enter the lastname siddiqui\n"
     ]
    },
    {
     "name": "stdout",
     "output_type": "stream",
     "text": [
      "siddiqui anas\n"
     ]
    }
   ],
   "source": [
    "firstName=input('Enter the firstname')\n",
    "lastName=input('Enter the lastname')\n",
    "fullname=lastName+\" \"+firstName\n",
    "print(fullname)"
   ]
  },
  {
   "cell_type": "code",
   "execution_count": null,
   "metadata": {},
   "outputs": [],
   "source": [
    "in1=input('Enter the first number')\n",
    "in2=input('Enter the second number')\n",
    "s=int(in1)+int(in2)\n",
    "print(s)"
   ]
  }
 ],
 "metadata": {
  "kernelspec": {
   "display_name": "Python 3",
   "language": "python",
   "name": "python3"
  },
  "language_info": {
   "codemirror_mode": {
    "name": "ipython",
    "version": 3
   },
   "file_extension": ".py",
   "mimetype": "text/x-python",
   "name": "python",
   "nbconvert_exporter": "python",
   "pygments_lexer": "ipython3",
   "version": "3.7.4"
  }
 },
 "nbformat": 4,
 "nbformat_minor": 4
}
