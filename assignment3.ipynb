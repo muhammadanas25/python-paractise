{
 "cells": [
  {
   "cell_type": "code",
   "execution_count": 8,
   "metadata": {},
   "outputs": [
    {
     "name": "stdout",
     "output_type": "stream",
     "text": [
      "Which Operation you want to apply ?\n",
      "Select Operation\n",
      "1.add x+y\n",
      "2.subtract x-y\n",
      "3.mutilpy x*y\n",
      "4.divide x/y\n"
     ]
    },
    {
     "name": "stdin",
     "output_type": "stream",
     "text": [
      "Enter Choice 1/2/3/4 1\n",
      "Please Input x  1\n",
      "Please Input y 3\n"
     ]
    },
    {
     "name": "stdout",
     "output_type": "stream",
     "text": [
      "4.0\n"
     ]
    }
   ],
   "source": [
    "print (\"Which Operation you want to apply ?\")\n",
    "def add(x,y):\n",
    "    return x+y\n",
    "def subtract(x,y):\n",
    "    return x-y\n",
    "def multiply(x,y):\n",
    "    return x*y\n",
    "def divide(x,y):\n",
    "    return x/y\n",
    "\n",
    "\n",
    "print(\"Select Operation\")\n",
    "print(\"1.add x+y\")\n",
    "print(\"2.subtract x-y\")\n",
    "print(\"3.mutilpy x*y\")\n",
    "print(\"4.divide x/y\")\n",
    "\n",
    "choice=input(\"Enter Choice 1/2/3/4\")\n",
    "x=float(input(\"Please Input x \"))\n",
    "y=float(input(\"Please Input y\"))\n",
    "if choice == '1':\n",
    "    print(add(x,y))\n",
    "elif choice =='2':\n",
    "    print(subtract(x,y))\n",
    "elif choice =='3':\n",
    "    print(multiply(x,y))\n",
    "elif choice =='4':\n",
    "    print(divide(x,y))\n",
    "\n",
    "else :Print(\"Invalid Input\")\n",
    "\n"
   ]
  },
  {
   "cell_type": "code",
   "execution_count": 10,
   "metadata": {},
   "outputs": [
    {
     "name": "stdout",
     "output_type": "stream",
     "text": [
      " there is not any numerical value in list\n"
     ]
    }
   ],
   "source": [
    "name=[\"apple \", \"car \", \" aeroplane\"]\n",
    "y=1\n",
    "for x in name:\n",
    "    isnumber=x.isdigit ()\n",
    "    y=0\n",
    "if y==0 :\n",
    "    print ( \" there is not any numerical value in list\")\n",
    "else :\n",
    "      print ( \" there is anumerical value in list\")"
   ]
  },
  {
   "cell_type": "code",
   "execution_count": 11,
   "metadata": {},
   "outputs": [
    {
     "name": "stdout",
     "output_type": "stream",
     "text": [
      "{0: 0, 1: 1, 2: 4, 3: 9}\n",
      "{0: 0, 1: 1, 2: 4, 3: 9, 4: 16, 5: 25}\n"
     ]
    }
   ],
   "source": [
    "Dict = {0:0, 1:1, 2:4, 3:9}\n",
    "print (Dict)\n",
    "Dict.update({4:16, 5:25})\n",
    "print (Dict)"
   ]
  },
  {
   "cell_type": "code",
   "execution_count": 13,
   "metadata": {},
   "outputs": [
    {
     "data": {
      "text/plain": [
       "62"
      ]
     },
     "execution_count": 13,
     "metadata": {},
     "output_type": "execute_result"
    }
   ],
   "source": [
    "d = {'key1': 1,'key2': 14,'key3': 47}\n",
    "sum(d.values())"
   ]
  },
  {
   "cell_type": "code",
   "execution_count": 15,
   "metadata": {},
   "outputs": [
    {
     "name": "stdout",
     "output_type": "stream",
     "text": [
      "1\n",
      "1\n"
     ]
    }
   ],
   "source": [
    "my_list=[1,2,3,4,1]\n",
    "for x in my_list:\n",
    "    if my_list.count(x) > 1:\n",
    "        print(x)\n",
    "   \n"
   ]
  },
  {
   "cell_type": "code",
   "execution_count": 26,
   "metadata": {},
   "outputs": [
    {
     "name": "stdout",
     "output_type": "stream",
     "text": [
      "key is already taken\n"
     ]
    }
   ],
   "source": [
    "d = {\"key1\": 1,\"key2\": 14,\"key3\": 47}\n",
    "if \"key1\" in d:\n",
    "    print (\"key is already taken\")\n",
    "else:\n",
    "    print ('you can assign this key')"
   ]
  },
  {
   "cell_type": "code",
   "execution_count": null,
   "metadata": {},
   "outputs": [],
   "source": []
  }
 ],
 "metadata": {
  "kernelspec": {
   "display_name": "Python 3",
   "language": "python",
   "name": "python3"
  },
  "language_info": {
   "codemirror_mode": {
    "name": "ipython",
    "version": 3
   },
   "file_extension": ".py",
   "mimetype": "text/x-python",
   "name": "python",
   "nbconvert_exporter": "python",
   "pygments_lexer": "ipython3",
   "version": "3.7.4"
  }
 },
 "nbformat": 4,
 "nbformat_minor": 4
}
