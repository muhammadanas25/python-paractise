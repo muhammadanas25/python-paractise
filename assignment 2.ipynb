{
 "cells": [
  {
   "cell_type": "code",
   "execution_count": 4,
   "metadata": {},
   "outputs": [
    {
     "data": {
      "text/plain": [
       "10"
      ]
     },
     "execution_count": 4,
     "metadata": {},
     "output_type": "execute_result"
    }
   ],
   "source": [
    "my_list=[1,2,3,4]\n",
    "s=sum(my_list)\n",
    "s"
   ]
  },
  {
   "cell_type": "code",
   "execution_count": 6,
   "metadata": {},
   "outputs": [
    {
     "name": "stdout",
     "output_type": "stream",
     "text": [
      "the length of the list is  3\n"
     ]
    }
   ],
   "source": [
    "name=[\"apple \", \"car \", \" aeroplane\"]\n",
    "n=len (name)\n",
    "print (\"the length of the list is \",n)"
   ]
  },
  {
   "cell_type": "code",
   "execution_count": 17,
   "metadata": {},
   "outputs": [
    {
     "name": "stdin",
     "output_type": "stream",
     "text": [
      " enter the chemistry marks  77\n",
      " enter the physics marks 66\n",
      "  enter the urdu marks  88\n",
      " enter the computer marks 77\n",
      " enter the math marks 99\n"
     ]
    },
    {
     "name": "stdout",
     "output_type": "stream",
     "text": [
      "\n",
      "Obtained 'A' Grade  Percentage =  81.2 %\n"
     ]
    }
   ],
   "source": [
    "\n",
    "chemistry = (input(\" enter the chemistry marks \"))\n",
    "physics = (input(\" enter the physics marks\"))\n",
    "urdu = (input(\"  enter the urdu marks \"))\n",
    "computer = (input(\" enter the computer marks\"))\n",
    "maths = (input(\" enter the math marks\"))\n",
    "urdu = int(urdu)\n",
    "chemistry = int(chemistry)\n",
    "physics = int(physics)\n",
    "computer = int(computer)\n",
    "maths = int(maths)\n",
    "ObtainedMarks = math + physics + chemistry + urdu + computer\n",
    "Percentage = (ObtainedMarks / 500) * 100\n",
    "if(Percentage >= 90):\n",
    "    print(\"\\nObtained 'A*' Grade\",\" Percentage = \",Percentage,\"%\")\n",
    "elif(Percentage >= 80) and (Percentage < 90):\n",
    "    print(\"\\nObtained 'A' Grade\",\" Percentage = \",Percentage,\"%\")\n",
    "elif(Percentage >= 70) and (Percentage < 80):\n",
    "    print(\"\\nObtained 'B' Grade\",\" Percentage = \",Percentage,\"%\")\n",
    "elif(Percentage >= 60) and (Percentage < 70):\n",
    "    print(\"\\nObtained 'D' Grade\",\" Percentage = \",Percentage,\"%\")\n",
    "elif(Percentage >= 50) and (Percentage < 70):\n",
    "    print(\"\\nObtained 'D' Grade\",\" Percentage = \",Percentage,\"%\")\n",
    "else:\n",
    "    print(\"\\nFail\")"
   ]
  },
  {
   "cell_type": "code",
   "execution_count": 23,
   "metadata": {},
   "outputs": [
    {
     "name": "stdin",
     "output_type": "stream",
     "text": [
      " enter thenumber   68\n"
     ]
    },
    {
     "name": "stdout",
     "output_type": "stream",
     "text": [
      "number is even\n"
     ]
    }
   ],
   "source": [
    "num= int ((input(\" enter thenumber  \")))\n",
    "if (num%2==0):\n",
    "    print(\"number is even\")\n",
    "else :\n",
    "    print (\"number is odd \")"
   ]
  },
  {
   "cell_type": "code",
   "execution_count": 29,
   "metadata": {},
   "outputs": [
    {
     "data": {
      "text/plain": [
       "4"
      ]
     },
     "execution_count": 29,
     "metadata": {},
     "output_type": "execute_result"
    }
   ],
   "source": [
    "my_list=[1,2,3,4]\n",
    "max =my_list[0]\n",
    "for x in my_list:\n",
    "    if x>max:\n",
    "        max =x\n",
    "max        \n",
    "        \n"
   ]
  },
  {
   "cell_type": "code",
   "execution_count": 32,
   "metadata": {},
   "outputs": [
    {
     "name": "stdout",
     "output_type": "stream",
     "text": [
      "1\n",
      "1\n",
      "2\n",
      "3\n"
     ]
    }
   ],
   "source": [
    "my_list=[1, 1, 2, 3, 5, 8, 13, 21, 34, 55, 89]\n",
    "max =my_list[0]\n",
    "for x in my_list:\n",
    "    if x<5:\n",
    "        print(x)"
   ]
  },
  {
   "cell_type": "code",
   "execution_count": null,
   "metadata": {},
   "outputs": [],
   "source": []
  }
 ],
 "metadata": {
  "kernelspec": {
   "display_name": "Python 3",
   "language": "python",
   "name": "python3"
  },
  "language_info": {
   "codemirror_mode": {
    "name": "ipython",
    "version": 3
   },
   "file_extension": ".py",
   "mimetype": "text/x-python",
   "name": "python",
   "nbconvert_exporter": "python",
   "pygments_lexer": "ipython3",
   "version": "3.7.4"
  }
 },
 "nbformat": 4,
 "nbformat_minor": 4
}
