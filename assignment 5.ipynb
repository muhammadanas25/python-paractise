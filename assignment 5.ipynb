{
 "cells": [
  {
   "cell_type": "code",
   "execution_count": 17,
   "metadata": {},
   "outputs": [
    {
     "name": "stdout",
     "output_type": "stream",
     "text": [
      "enter the number for factorial4\n",
      "factorial of number is  24\n"
     ]
    }
   ],
   "source": [
    "\n",
    "def fact (n ):\n",
    "    y=1\n",
    "    for x in range (1,n+1) :\n",
    "        \n",
    "        y = y * x\n",
    "    print ( \"factorial of number is \",y)\n",
    "    return \n",
    "\n",
    "n= int(input( \"enter the number for factorial\"))\n",
    "fact( n);\n",
    "\n"
   ]
  },
  {
   "cell_type": "code",
   "execution_count": null,
   "metadata": {},
   "outputs": [],
   "source": [
    "\n",
    "\n",
    "def palindrome (str ):\n",
    "    reversestring=\" \"\n",
    "    reversestring=str[::-1]\n",
    "    if (str== reverstring):\n",
    "        print ( \" it is palindrome\")\n",
    "    else :\n",
    "         print ( \" it is not  palindrome\")\n",
    "            \n",
    "            \n",
    "str  = (input(\" enter the string \"))  \n",
    "palindrome( str )"
   ]
  },
  {
   "cell_type": "code",
   "execution_count": 37,
   "metadata": {},
   "outputs": [
    {
     "name": "stdout",
     "output_type": "stream",
     "text": [
      "it is  prime  \n",
      "it is not prime  \n",
      "it is  prime  \n"
     ]
    }
   ],
   "source": [
    "def prime (n):\n",
    "    count=0\n",
    "    for num in range(2,n-1): \n",
    "            if(n%num==0):\n",
    "                print (\"it is not prime  \" )     \n",
    "                return \n",
    "    print (\"it is  prime  \" )  \n",
    "        \n",
    "prime(7)\n",
    "prime(9)\n",
    "prime(2)"
   ]
  },
  {
   "cell_type": "code",
   "execution_count": null,
   "metadata": {},
   "outputs": [],
   "source": [
    " "
   ]
  },
  {
   "cell_type": "code",
   "execution_count": null,
   "metadata": {},
   "outputs": [],
   "source": [
    "def even (mylist):\n",
    "    count=0\n",
    "    for num in mylist: \n",
    "            if (num%2==0):\n",
    "                count =count +1\n",
    "    print (\"numberof even number in list is  \",count )     \n",
    "    return\n",
    "\n",
    "mylist = [1,4,3,5,6]\n",
    "even(mylist)  "
   ]
  },
  {
   "cell_type": "code",
   "execution_count": null,
   "metadata": {},
   "outputs": [],
   "source": [
    "def count ( string )\n",
    "    upper=0\n",
    "    lower=0\n",
    "    for i in string:\n",
    "          if(i.islower()):\n",
    "                lower=lower + 1\n",
    "          elif(i.isupper()):\n",
    "                upper =   upper +1\n",
    "    print(\"The number of lowercase characters is:\")\n",
    "    print(lower)\n",
    "    print(\"The number of uppercase characters is:\")\n",
    "    print(upper )\n",
    "\n",
    "string=input(\"Enter string:\")\n",
    "count(string)"
   ]
  },
  {
   "cell_type": "code",
   "execution_count": null,
   "metadata": {},
   "outputs": [],
   "source": []
  },
  {
   "cell_type": "code",
   "execution_count": null,
   "metadata": {},
   "outputs": [],
   "source": []
  }
 ],
 "metadata": {
  "kernelspec": {
   "display_name": "Python 3",
   "language": "python",
   "name": "python3"
  },
  "language_info": {
   "codemirror_mode": {
    "name": "ipython",
    "version": 3
   },
   "file_extension": ".py",
   "mimetype": "text/x-python",
   "name": "python",
   "nbconvert_exporter": "python",
   "pygments_lexer": "ipython3",
   "version": "3.7.4"
  }
 },
 "nbformat": 4,
 "nbformat_minor": 4
}
